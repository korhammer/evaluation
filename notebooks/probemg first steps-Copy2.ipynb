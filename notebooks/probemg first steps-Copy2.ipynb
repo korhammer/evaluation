{
 "cells": [
  {
   "cell_type": "code",
   "execution_count": 3,
   "metadata": {
    "collapsed": false
   },
   "outputs": [],
   "source": [
    "import evaluation.evaluate\n",
    "reload(evaluation.evaluate)\n",
    "import matplotlib.pyplot as plt\n",
    "import matplotlib as mpl\n",
    "%matplotlib inline\n",
    "\n",
    "import pandas as pd\n",
    "import numpy as np\n",
    "\n",
    "mpl.rcParams['figure.figsize'] = [14,8]"
   ]
  },
  {
   "cell_type": "code",
   "execution_count": 4,
   "metadata": {
    "collapsed": false
   },
   "outputs": [],
   "source": [
    "folderpath = 'C:/Users/rachel/Desktop/emg/results_final/results_fft'"
   ]
  },
  {
   "cell_type": "code",
   "execution_count": 5,
   "metadata": {
    "collapsed": false
   },
   "outputs": [],
   "source": [
    "e = evaluation.evaluate.Evaluation()"
   ]
  },
  {
   "cell_type": "code",
   "execution_count": 6,
   "metadata": {
    "collapsed": false
   },
   "outputs": [],
   "source": [
    "#e.add_folder(folderpath, e.add_hdf5)\n",
    "#e.results.to_pickle('only_fft')\n",
    "e.results=pd.read_pickle('only_fft')"
   ]
  },
  {
   "cell_type": "code",
   "execution_count": 7,
   "metadata": {
    "collapsed": false
   },
   "outputs": [
    {
     "data": {
      "text/plain": [
       "(6380, 21)"
      ]
     },
     "execution_count": 7,
     "metadata": {},
     "output_type": "execute_result"
    }
   ],
   "source": [
    "e.results.shape"
   ]
  },
  {
   "cell_type": "code",
   "execution_count": 13,
   "metadata": {
    "collapsed": true
   },
   "outputs": [],
   "source": [
    "e.make_same('file', ['angle', 'angle_small'])\n",
    "e.make_same('file', ['stroke$_1$', 'stroke_left', 'stroke_P_4_self_left'])\n",
    "e.make_same('file', ['stroke$_2$', 'stroke_right', 'stroke_P_4_self_right'])\n",
    "e.make_same('file', ['pEMG', 'pemg', 'dataset-20140123-0R-a'])\n",
    "e.make_same('file', ['action','physical'])\n",
    "e.make_same('file', ['0G$_2$', '0g_tiny', '2011-05-10-vogel'])\n",
    "e.make_same('file', ['0G$_1$', '0g', 'Hannes1'])\n",
    "e.make_same('file', ['knee_old', 'bdsemg'])\n",
    "e.make_same('file', ['knee', 'knee_1'])\n",
    "e.make_same('file', ['knee$_3$', 'knee_3'])\n",
    "e.make_same('file', ['knee$_5$', 'knee_5'])\n",
    "e.make_same('model', ['pPCA', 'ppca'])\n",
    "e.make_same('model', ['GMM', 'gmm'])\n",
    "e.make_same('model', ['ICA', 'ica'])\n",
    "e.make_same('model', ['FA', 'fa'])\n",
    "e.make_same('model', ['MFA', 'mfa'])\n",
    "e.make_same('model', ['VAE', 'VA', 'vae'])\n",
    "e.make_same('model', ['MST', 'mst'])\n",
    "e.make_same('function', ['lc','logcosh'])\n",
    "e.make_same('function', ['lo','laplace'])\n",
    "e.make_same('cov', ['diagonal', 'diag'])\n",
    "e.make_same('fft', ['', -1, 0])\n",
    "e.make_same('fft', ['fft', 1])"
   ]
  },
  {
   "cell_type": "code",
   "execution_count": 64,
   "metadata": {
    "collapsed": false
   },
   "outputs": [],
   "source": [
    "#rcParams.clear()\n",
    "mpl.rcParams['xtick.direction']='out'\n",
    "mpl.rcParams['ytick.direction']='out'\n",
    "mpl.rcParams['xtick.major.pad']=2\n",
    "mpl.rcParams['xtick.minor.pad']=2\n",
    "mpl.rcParams['ytick.major.pad']=1\n",
    "mpl.rcParams['ytick.minor.pad']=1\n",
    "mpl.rcParams['text.usetex'] = False\n",
    "mpl.rcParams['font.family'] = 'serif'\n",
    "mpl.rcParams['figure.figsize'] = [12,6]\n",
    "#mpl.rcParams['figure.figsize'] = [6.8, 9/2.0]\n",
    "mpl.rcParams['figure.dpi'] = 300\n",
    "mpl.rcParams['font.size'] = 8\n",
    "mpl.rcParams['figure.facecolor'] = 'w'\n",
    "#mpl.rcParams['figure.edgecolor'] = 'w'\n",
    "mpl.rcParams['legend.labelspacing'] = .3\n",
    "#mpl.rcParams['legend.borderpad']=0.5\n",
    "mpl.rcParams['legend.borderaxespad']=0.1\n",
    "mpl.rcParams['legend.columnspacing']=1.2\n",
    "mpl.rcParams['figure.subplot.wspace'] = .4\n",
    "mpl.rcParams['figure.subplot.hspace'] = .2\n",
    "#mpl.rcParams['figure.autolayout']=False\n",
    "mpl.rcParams['savefig.bbox']='tight'\n",
    "mpl.rcParams['figure.subplot.left']=0.0\n",
    "mpl.rcParams['figure.subplot.right']=1\n",
    "#mpl.rcParams['legend.isaxes']=False\n",
    "#matplotlib.ticker.Sc\n",
    "figfolder = r'C:/Users/rachel/git/2014-prob-emg/paper/figs/'"
   ]
  },
  {
   "cell_type": "code",
   "execution_count": 12,
   "metadata": {
    "collapsed": false
   },
   "outputs": [
    {
     "data": {
      "text/plain": [
       "array([u'classification', u'cov', u'fft', u'file', u'function',\n",
       "       u'max_iter', u'model', u'n_features', u'n_latents', u'n_mixcomps',\n",
       "       u'n_splits', u'offset', u'rectified', u'scaled', 'test mean',\n",
       "       'test std', u'test_fraction', 'train mean', 'train std',\n",
       "       u'whitened', u'window_size'], dtype=object)"
      ]
     },
     "execution_count": 12,
     "metadata": {},
     "output_type": "execute_result"
    }
   ],
   "source": [
    "e.results.columns.values"
   ]
  },
  {
   "cell_type": "code",
   "execution_count": 14,
   "metadata": {
    "collapsed": false
   },
   "outputs": [],
   "source": [
    "e.set_order('window_size', 'ascend')\n",
    "e.set_order('n_mixcomps', 'ascend')\n",
    "e.set_order('n_latents','ascend')\n",
    "e.set_order('model', ['pPCA','FA','ICA','VAE','GMM','MST','MFA'])\n",
    "#e.set_order('flags', ['raw', 's', 'w', 'sw', 'r', 'sr', 'rw', 'srw'])\n",
    "e.set_order('function', ['lc', 'lo'])\n",
    "        "
   ]
  },
  {
   "cell_type": "code",
   "execution_count": 21,
   "metadata": {
    "collapsed": false
   },
   "outputs": [],
   "source": [
    "e.unfilter()"
   ]
  },
  {
   "cell_type": "code",
   "execution_count": 65,
   "metadata": {
    "collapsed": false
   },
   "outputs": [
    {
     "ename": "TypeError",
     "evalue": "cannot convert the series to <type 'float'>",
     "output_type": "error",
     "traceback": [
      "\u001b[1;31m---------------------------------------------------------------------------\u001b[0m",
      "\u001b[1;31mTypeError\u001b[0m                                 Traceback (most recent call last)",
      "\u001b[1;32m<ipython-input-65-7819c8d57256>\u001b[0m in \u001b[0;36m<module>\u001b[1;34m()\u001b[0m\n\u001b[0;32m      2\u001b[0m \u001b[0mbest\u001b[0m \u001b[1;33m=\u001b[0m \u001b[0me\u001b[0m\u001b[1;33m.\u001b[0m\u001b[0mbest_results_for\u001b[0m\u001b[1;33m(\u001b[0m\u001b[1;33m[\u001b[0m\u001b[1;34m'file'\u001b[0m\u001b[1;33m,\u001b[0m \u001b[1;34m'window_size'\u001b[0m\u001b[1;33m]\u001b[0m\u001b[1;33m,\u001b[0m \u001b[0mfun\u001b[0m\u001b[1;33m=\u001b[0m\u001b[1;34m'max'\u001b[0m\u001b[1;33m)\u001b[0m\u001b[1;33m\u001b[0m\u001b[0m\n\u001b[0;32m      3\u001b[0m \u001b[0mcounts\u001b[0m \u001b[1;33m=\u001b[0m \u001b[0me\u001b[0m\u001b[1;33m.\u001b[0m\u001b[0mbest_results_for\u001b[0m\u001b[1;33m(\u001b[0m\u001b[1;33m[\u001b[0m\u001b[1;34m'file'\u001b[0m\u001b[1;33m,\u001b[0m \u001b[1;34m'window_size'\u001b[0m\u001b[1;33m]\u001b[0m\u001b[1;33m,\u001b[0m \u001b[0mfun\u001b[0m\u001b[1;33m=\u001b[0m\u001b[1;34m'count'\u001b[0m\u001b[1;33m)\u001b[0m\u001b[1;33m\u001b[0m\u001b[0m\n\u001b[1;32m----> 4\u001b[1;33m \u001b[0me\u001b[0m\u001b[1;33m.\u001b[0m\u001b[0mgroup_subplots\u001b[0m\u001b[1;33m(\u001b[0m\u001b[0mbest\u001b[0m\u001b[1;33m,\u001b[0m \u001b[0mcounts\u001b[0m\u001b[1;33m,\u001b[0m \u001b[0merror\u001b[0m\u001b[1;33m=\u001b[0m\u001b[0mTrue\u001b[0m\u001b[1;33m,\u001b[0m \u001b[0mno_rows\u001b[0m\u001b[1;33m=\u001b[0m\u001b[1;36m2\u001b[0m\u001b[1;33m,\u001b[0m \u001b[0mcolormap\u001b[0m\u001b[1;33m=\u001b[0m\u001b[1;34m'Pastel1'\u001b[0m\u001b[1;33m,\u001b[0m \u001b[0mbase\u001b[0m\u001b[1;33m=\u001b[0m\u001b[1;36m2\u001b[0m\u001b[1;33m,\u001b[0m \u001b[0meps\u001b[0m\u001b[1;33m=\u001b[0m\u001b[1;36m.5\u001b[0m\u001b[1;33m)\u001b[0m\u001b[1;33m\u001b[0m\u001b[0m\n\u001b[0m",
      "\u001b[1;32mC:\\Users\\rachel\\evaluation\\evaluation\\evaluate.pyc\u001b[0m in \u001b[0;36mgroup_subplots\u001b[1;34m(self, best, counts, error, no_rows, adapt_bottom, plot_range, base, eps, plot_fit, colormap, legend_position, legend_pad)\u001b[0m\n\u001b[0;32m    161\u001b[0m \u001b[1;33m\u001b[0m\u001b[0m\n\u001b[0;32m    162\u001b[0m                 test_mean = np.float(best[(best[att_names[0]] == lev0_att)\n\u001b[1;32m--> 163\u001b[1;33m                                           & (best[att_names[1]] == lev1_att)]['test mean'])\n\u001b[0m\u001b[0;32m    164\u001b[0m                 test_std = np.float(best[(best[att_names[0]] == lev0_att)\n\u001b[0;32m    165\u001b[0m                                           & (best[att_names[1]] == lev1_att)]['test std'])\n",
      "\u001b[1;32mC:\\Users\\rachel\\Anaconda\\lib\\site-packages\\pandas\\core\\series.pyc\u001b[0m in \u001b[0;36mwrapper\u001b[1;34m(self)\u001b[0m\n\u001b[0;32m     71\u001b[0m             \u001b[1;32mreturn\u001b[0m \u001b[0mconverter\u001b[0m\u001b[1;33m(\u001b[0m\u001b[0mself\u001b[0m\u001b[1;33m.\u001b[0m\u001b[0miloc\u001b[0m\u001b[1;33m[\u001b[0m\u001b[1;36m0\u001b[0m\u001b[1;33m]\u001b[0m\u001b[1;33m)\u001b[0m\u001b[1;33m\u001b[0m\u001b[0m\n\u001b[0;32m     72\u001b[0m         raise TypeError(\n\u001b[1;32m---> 73\u001b[1;33m             \"cannot convert the series to {0}\".format(str(converter)))\n\u001b[0m\u001b[0;32m     74\u001b[0m     \u001b[1;32mreturn\u001b[0m \u001b[0mwrapper\u001b[0m\u001b[1;33m\u001b[0m\u001b[0m\n\u001b[0;32m     75\u001b[0m \u001b[1;33m\u001b[0m\u001b[0m\n",
      "\u001b[1;31mTypeError\u001b[0m: cannot convert the series to <type 'float'>"
     ]
    },
    {
     "data": {
      "image/png": "[encoded data removed]",
      "text/plain": [
       "<matplotlib.figure.Figure at 0x10d83080>"
      ]
     },
     "metadata": {},
     "output_type": "display_data"
    }
   ],
   "source": [
    "e.filter('model', 'GMM')\n",
    "best = e.best_results_for(['file', 'window_size'], fun='max')\n",
    "counts = e.best_results_for(['file', 'window_size'], fun='count')\n",
    "e.group_subplots(best, counts, error=True, no_rows=2, colormap='Pastel1', base=2, eps=.5)"
   ]
  },
  {
   "cell_type": "code",
   "execution_count": 30,
   "metadata": {
    "collapsed": false
   },
   "outputs": [
    {
     "data": {
      "text/plain": [
       "file               knee\n",
       "window_size          25\n",
       "test mean      14.68974\n",
       "train mean     14.67297\n",
       "test std       0.471329\n",
       "train std      0.298535\n",
       "Name: 35, dtype: object"
      ]
     },
     "execution_count": 30,
     "metadata": {},
     "output_type": "execute_result"
    }
   ],
   "source": [
    "best.reset_index().iloc[35]\n"
   ]
  },
  {
   "cell_type": "code",
   "execution_count": 32,
   "metadata": {
    "collapsed": true
   },
   "outputs": [],
   "source": [
    "bestr = best.reset_index()"
   ]
  },
  {
   "cell_type": "code",
   "execution_count": 43,
   "metadata": {
    "collapsed": true
   },
   "outputs": [],
   "source": [
    "output = bestr[(bestr['file'] == 'knee') & (bestr['window_size']== 3)]['test mean']"
   ]
  },
  {
   "cell_type": "code",
   "execution_count": 46,
   "metadata": {
    "collapsed": false
   },
   "outputs": [
    {
     "data": {
      "text/plain": [
       "0"
      ]
     },
     "execution_count": 46,
     "metadata": {},
     "output_type": "execute_result"
    }
   ],
   "source": [
    "len(output)"
   ]
  },
  {
   "cell_type": "code",
   "execution_count": 47,
   "metadata": {
    "collapsed": false
   },
   "outputs": [
    {
     "data": {
      "text/plain": [
       "nan"
      ]
     },
     "execution_count": 47,
     "metadata": {},
     "output_type": "execute_result"
    }
   ],
   "source": [
    "np.float(output if len(output)>0 else np.nan)\n"
   ]
  },
  {
   "cell_type": "code",
   "execution_count": 50,
   "metadata": {
    "collapsed": false
   },
   "outputs": [],
   "source": [
    "k=e.results.to_pickle('only_fft')"
   ]
  },
  {
   "cell_type": "code",
   "execution_count": 51,
   "metadata": {
    "collapsed": true
   },
   "outputs": [],
   "source": [
    "p= evaluation.evaluate.Evaluation()"
   ]
  },
  {
   "cell_type": "code",
   "execution_count": 52,
   "metadata": {
    "collapsed": true
   },
   "outputs": [],
   "source": [
    "p.results=pd.read_pickle('only_fft')"
   ]
  },
  {
   "cell_type": "code",
   "execution_count": 54,
   "metadata": {
    "collapsed": false
   },
   "outputs": [
    {
     "data": {
      "text/plain": [
       "(6380, 21)"
      ]
     },
     "execution_count": 54,
     "metadata": {},
     "output_type": "execute_result"
    }
   ],
   "source": [
    "p.results.shape"
   ]
  },
  {
   "cell_type": "code",
   "execution_count": null,
   "metadata": {
    "collapsed": true
   },
   "outputs": [],
   "source": []
  }
 ],
 "metadata": {
  "kernelspec": {
   "display_name": "Python 2",
   "language": "python",
   "name": "python2"
  },
  "language_info": {
   "codemirror_mode": {
    "name": "ipython",
    "version": 2
   },
   "file_extension": ".py",
   "mimetype": "text/x-python",
   "name": "python",
   "nbconvert_exporter": "python",
   "pygments_lexer": "ipython2",
   "version": "2.7.9"
  }
 },
 "nbformat": 4,
 "nbformat_minor": 0
}
