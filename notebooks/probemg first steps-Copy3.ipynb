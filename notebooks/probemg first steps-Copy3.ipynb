{
 "cells": [
  {
   "cell_type": "code",
   "execution_count": 1,
   "metadata": {
    "collapsed": false
   },
   "outputs": [],
   "source": [
    "import evaluation.evaluate\n",
    "reload(evaluation.evaluate)\n",
    "import matplotlib.pyplot as plt\n",
    "import matplotlib as mpl\n",
    "%matplotlib inline\n",
    "\n",
    "import pandas as pd\n",
    "import numpy as np\n",
    "\n",
    "mpl.rcParams['figure.figsize'] = [14,8]"
   ]
  },
  {
   "cell_type": "code",
   "execution_count": 2,
   "metadata": {
    "collapsed": false
   },
   "outputs": [],
   "source": [
    "folderpath = 'C:/Users/rachel/Desktop/emg/results_final/results_application'"
   ]
  },
  {
   "cell_type": "code",
   "execution_count": 3,
   "metadata": {
    "collapsed": false
   },
   "outputs": [],
   "source": [
    "e = evaluation.evaluate.Evaluation()"
   ]
  },
  {
   "cell_type": "code",
   "execution_count": 4,
   "metadata": {
    "collapsed": false
   },
   "outputs": [],
   "source": [
    "#e.add_folder(folderpath, e.add_hdf5)\n",
    "#e.results.to_pickle('only_application')\n",
    "e.results=pd.read_pickle('only_application')"
   ]
  },
  {
   "cell_type": "code",
   "execution_count": 5,
   "metadata": {
    "collapsed": false
   },
   "outputs": [
    {
     "data": {
      "text/plain": [
       "(11782, 21)"
      ]
     },
     "execution_count": 5,
     "metadata": {},
     "output_type": "execute_result"
    }
   ],
   "source": [
    "e.results.shape"
   ]
  },
  {
   "cell_type": "code",
   "execution_count": 13,
   "metadata": {
    "collapsed": true
   },
   "outputs": [],
   "source": [
    "e.make_same('file', ['angle', 'angle_small'])\n",
    "e.make_same('file', ['stroke$_1$', 'stroke_left', 'stroke_P_4_self_left'])\n",
    "e.make_same('file', ['stroke$_2$', 'stroke_right', 'stroke_P_4_self_right'])\n",
    "e.make_same('file', ['pEMG', 'pemg', 'dataset-20140123-0R-a'])\n",
    "e.make_same('file', ['action','physical'])\n",
    "e.make_same('file', ['0G$_2$', '0g_tiny', '2011-05-10-vogel'])\n",
    "e.make_same('file', ['0G$_1$', '0g', 'Hannes1'])\n",
    "e.make_same('file', ['knee_old', 'bdsemg'])\n",
    "e.make_same('file', ['knee', 'knee_1'])\n",
    "e.make_same('file', ['knee$_3$', 'knee_3'])\n",
    "e.make_same('file', ['knee$_5$', 'knee_5'])\n",
    "e.make_same('model', ['pPCA', 'ppca'])\n",
    "e.make_same('model', ['GMM', 'gmm'])\n",
    "e.make_same('model', ['ICA', 'ica'])\n",
    "e.make_same('model', ['FA', 'fa'])\n",
    "e.make_same('model', ['MFA', 'mfa'])\n",
    "e.make_same('model', ['VAE', 'VA', 'vae'])\n",
    "e.make_same('model', ['MST', 'mst'])\n",
    "e.make_same('function', ['lc','logcosh'])\n",
    "e.make_same('function', ['lo','laplace'])\n",
    "e.make_same('cov', ['diagonal', 'diag'])\n",
    "e.make_same('fft', ['', -1, 0])\n",
    "e.make_same('fft', ['fft', 1])"
   ]
  },
  {
   "cell_type": "code",
   "execution_count": 6,
   "metadata": {
    "collapsed": false
   },
   "outputs": [
    {
     "ename": "NameError",
     "evalue": "name 'rcParams' is not defined",
     "output_type": "error",
     "traceback": [
      "\u001b[1;31m---------------------------------------------------------------------------\u001b[0m",
      "\u001b[1;31mNameError\u001b[0m                                 Traceback (most recent call last)",
      "\u001b[1;32m<ipython-input-6-1c01b38da4be>\u001b[0m in \u001b[0;36m<module>\u001b[1;34m()\u001b[0m\n\u001b[0;32m      1\u001b[0m \u001b[1;31m#rcParams.clear()\u001b[0m\u001b[1;33m\u001b[0m\u001b[1;33m\u001b[0m\u001b[0m\n\u001b[1;32m----> 2\u001b[1;33m \u001b[0mrcParams\u001b[0m\u001b[1;33m[\u001b[0m\u001b[1;34m'xtick.direction'\u001b[0m\u001b[1;33m]\u001b[0m\u001b[1;33m=\u001b[0m\u001b[1;34m'out'\u001b[0m\u001b[1;33m\u001b[0m\u001b[0m\n\u001b[0m\u001b[0;32m      3\u001b[0m \u001b[0mrcParams\u001b[0m\u001b[1;33m[\u001b[0m\u001b[1;34m'ytick.direction'\u001b[0m\u001b[1;33m]\u001b[0m\u001b[1;33m=\u001b[0m\u001b[1;34m'out'\u001b[0m\u001b[1;33m\u001b[0m\u001b[0m\n\u001b[0;32m      4\u001b[0m \u001b[0mrcParams\u001b[0m\u001b[1;33m[\u001b[0m\u001b[1;34m'xtick.major.pad'\u001b[0m\u001b[1;33m]\u001b[0m\u001b[1;33m=\u001b[0m\u001b[1;36m2\u001b[0m\u001b[1;33m\u001b[0m\u001b[0m\n\u001b[0;32m      5\u001b[0m \u001b[0mrcParams\u001b[0m\u001b[1;33m[\u001b[0m\u001b[1;34m'xtick.minor.pad'\u001b[0m\u001b[1;33m]\u001b[0m\u001b[1;33m=\u001b[0m\u001b[1;36m2\u001b[0m\u001b[1;33m\u001b[0m\u001b[0m\n",
      "\u001b[1;31mNameError\u001b[0m: name 'rcParams' is not defined"
     ]
    }
   ],
   "source": [
    "np.array"
   ]
  },
  {
   "cell_type": "code",
   "execution_count": 12,
   "metadata": {
    "collapsed": false
   },
   "outputs": [
    {
     "data": {
      "text/plain": [
       "array([u'classification', u'cov', u'fft', u'file', u'function',\n",
       "       u'max_iter', u'model', u'n_features', u'n_latents', u'n_mixcomps',\n",
       "       u'n_splits', u'offset', u'rectified', u'scaled', 'test mean',\n",
       "       'test std', u'test_fraction', 'train mean', 'train std',\n",
       "       u'whitened', u'window_size'], dtype=object)"
      ]
     },
     "execution_count": 12,
     "metadata": {},
     "output_type": "execute_result"
    }
   ],
   "source": [
    "e.results.columns.values"
   ]
  },
  {
   "cell_type": "code",
   "execution_count": 14,
   "metadata": {
    "collapsed": false
   },
   "outputs": [],
   "source": [
    "e.set_order('window_size', 'ascend')\n",
    "e.set_order('n_mixcomps', 'ascend')\n",
    "e.set_order('n_latents','ascend')\n",
    "e.set_order('model', ['pPCA','FA','ICA','VAE','GMM','MST','MFA'])\n",
    "#e.set_order('flags', ['raw', 's', 'w', 'sw', 'r', 'sr', 'rw', 'srw'])\n",
    "e.set_order('function', ['lc', 'lo'])\n",
    "        "
   ]
  },
  {
   "cell_type": "code",
   "execution_count": 21,
   "metadata": {
    "collapsed": false
   },
   "outputs": [],
   "source": [
    "e.unfilter()"
   ]
  },
  {
   "cell_type": "code",
   "execution_count": null,
   "metadata": {
    "collapsed": false
   },
   "outputs": [],
   "source": [
    "e.filter('model', 'GMM')\n",
    "best = e.best_results_for(['file', 'window_size'], fun='max')\n",
    "counts = e.best_results_for(['file', 'window_size'], fun='count')\n",
    "e.group_subplots(best, counts, error=True, no_rows=3, colormap='Pastel1', base=2, eps=.5)"
   ]
  },
  {
   "cell_type": "code",
   "execution_count": 30,
   "metadata": {
    "collapsed": false
   },
   "outputs": [
    {
     "data": {
      "text/plain": [
       "file               knee\n",
       "window_size          25\n",
       "test mean      14.68974\n",
       "train mean     14.67297\n",
       "test std       0.471329\n",
       "train std      0.298535\n",
       "Name: 35, dtype: object"
      ]
     },
     "execution_count": 30,
     "metadata": {},
     "output_type": "execute_result"
    }
   ],
   "source": [
    "best.reset_index().iloc[35]\n"
   ]
  },
  {
   "cell_type": "code",
   "execution_count": 32,
   "metadata": {
    "collapsed": true
   },
   "outputs": [],
   "source": [
    "bestr = best.reset_index()"
   ]
  },
  {
   "cell_type": "code",
   "execution_count": 43,
   "metadata": {
    "collapsed": true
   },
   "outputs": [],
   "source": [
    "output = bestr[(bestr['file'] == 'knee') & (bestr['window_size']== 3)]['test mean']"
   ]
  },
  {
   "cell_type": "code",
   "execution_count": 46,
   "metadata": {
    "collapsed": false
   },
   "outputs": [
    {
     "data": {
      "text/plain": [
       "0"
      ]
     },
     "execution_count": 46,
     "metadata": {},
     "output_type": "execute_result"
    }
   ],
   "source": [
    "len(output)"
   ]
  },
  {
   "cell_type": "code",
   "execution_count": 47,
   "metadata": {
    "collapsed": false
   },
   "outputs": [
    {
     "data": {
      "text/plain": [
       "nan"
      ]
     },
     "execution_count": 47,
     "metadata": {},
     "output_type": "execute_result"
    }
   ],
   "source": [
    "np.float(output if len(output)>0 else np.nan)\n"
   ]
  },
  {
   "cell_type": "code",
   "execution_count": 50,
   "metadata": {
    "collapsed": false
   },
   "outputs": [],
   "source": [
    "k=e.results.to_pickle('only_fft')"
   ]
  },
  {
   "cell_type": "code",
   "execution_count": 51,
   "metadata": {
    "collapsed": true
   },
   "outputs": [],
   "source": [
    "p= evaluation.evaluate.Evaluation()"
   ]
  },
  {
   "cell_type": "code",
   "execution_count": 52,
   "metadata": {
    "collapsed": true
   },
   "outputs": [],
   "source": [
    "p.results=pd.read_pickle('only_fft')"
   ]
  },
  {
   "cell_type": "code",
   "execution_count": 54,
   "metadata": {
    "collapsed": false
   },
   "outputs": [
    {
     "data": {
      "text/plain": [
       "(6380, 21)"
      ]
     },
     "execution_count": 54,
     "metadata": {},
     "output_type": "execute_result"
    }
   ],
   "source": [
    "p.results.shape"
   ]
  },
  {
   "cell_type": "code",
   "execution_count": null,
   "metadata": {
    "collapsed": true
   },
   "outputs": [],
   "source": []
  }
 ],
 "metadata": {
  "kernelspec": {
   "display_name": "Python 2",
   "language": "python",
   "name": "python2"
  },
  "language_info": {
   "codemirror_mode": {
    "name": "ipython",
    "version": 2
   },
   "file_extension": ".py",
   "mimetype": "text/x-python",
   "name": "python",
   "nbconvert_exporter": "python",
   "pygments_lexer": "ipython2",
   "version": "2.7.9"
  }
 },
 "nbformat": 4,
 "nbformat_minor": 0
}
