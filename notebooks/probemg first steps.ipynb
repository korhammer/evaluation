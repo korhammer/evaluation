{
 "metadata": {
  "name": "",
  "signature": "sha256:ff8e1a0d609af96dcd35ff405f539396469a353d6fd1d7744209b2ea6391bbf5"
 },
 "nbformat": 3,
 "nbformat_minor": 0,
 "worksheets": [
  {
   "cells": [
    {
     "cell_type": "code",
     "collapsed": false,
     "input": [
      "import evaluation.evaluate\n",
      "reload(evaluation.evaluate)\n",
      "import matplotlib.pyplot as plt\n",
      "import matplotlib as mpl\n",
      "%matplotlib inline\n",
      "\n",
      "import pandas as pd\n",
      "import numpy as np\n",
      "\n",
      "mpl.rcParams['figure.figsize'] = [14,8]"
     ],
     "language": "python",
     "metadata": {},
     "outputs": []
    },
    {
     "cell_type": "code",
     "collapsed": false,
     "input": [
      "folderpath = 'P:/Datasets/EmgData/results_final'"
     ],
     "language": "python",
     "metadata": {},
     "outputs": []
    },
    {
     "cell_type": "code",
     "collapsed": false,
     "input": [
      "e = evaluation.evaluate.Evaluation()"
     ],
     "language": "python",
     "metadata": {},
     "outputs": []
    },
    {
     "cell_type": "code",
     "collapsed": false,
     "input": [
      "e.add_folder(folderpath, e.add_hdf5)"
     ],
     "language": "python",
     "metadata": {},
     "outputs": []
    },
    {
     "cell_type": "code",
     "collapsed": false,
     "input": [
      "e.set_order('window_size', 'ascend')\n",
      "e.set_order('n_mixcomps', 'ascend')"
     ],
     "language": "python",
     "metadata": {},
     "outputs": []
    },
    {
     "cell_type": "code",
     "collapsed": false,
     "input": [
      "e.unfilter()"
     ],
     "language": "python",
     "metadata": {},
     "outputs": []
    },
    {
     "cell_type": "code",
     "collapsed": false,
     "input": [
      "best = e.best_results_for(['file', 'window_size'], fun='max')\n",
      "e.filter('model', 'gmm')\n",
      "e.group_subplots(best, error=True, no_rows=3, colormap='Pastel1', base=2, eps=.5)"
     ],
     "language": "python",
     "metadata": {},
     "outputs": []
    }
   ],
   "metadata": {}
  }
 ]
}